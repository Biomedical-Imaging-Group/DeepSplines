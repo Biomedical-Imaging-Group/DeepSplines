{
 "cells": [
  {
   "cell_type": "code",
   "execution_count": null,
   "metadata": {},
   "outputs": [],
   "source": [
    "import torch\n",
    "import numpy as np\n",
    "import matplotlib.pyplot as plt\n",
    "from spline_module import linearspline, linearspline_utils\n",
    "from torch.utils.data import Dataset\n",
    "from tqdm import tqdm"
   ]
  },
  {
   "cell_type": "code",
   "execution_count": null,
   "metadata": {},
   "outputs": [],
   "source": [
    "seed = 5\n",
    "if (torch.cuda.is_available()):\n",
    "    device = \"cuda:0\" \n",
    "else:\n",
    "    device = \"cpu\""
   ]
  },
  {
   "cell_type": "code",
   "execution_count": null,
   "metadata": {},
   "outputs": [],
   "source": [
    "# Dataset Class\n",
    "class Function1D(Dataset):\n",
    "\n",
    "    def __init__(self, function, n_points, seed):\n",
    "        \n",
    "        np.random.seed(seed)\n",
    "        X = (2.0 * np.random.rand(n_points, 1) - 1.0).astype(np.float32)\n",
    "        y = np.vectorize(function)(X).astype(np.float32)\n",
    "        self.X, self.y = torch.tensor(X), torch.tensor(y)\n",
    "        \n",
    "    def __len__(self):\n",
    "        return self.X.shape[0]\n",
    "\n",
    "    def __getitem__(self, idx):\n",
    "        return self.X[idx,:], self.y[idx,:]"
   ]
  },
  {
   "cell_type": "code",
   "execution_count": null,
   "metadata": {},
   "outputs": [],
   "source": [
    "function = lambda x: x**2         # Quadratic function\n",
    "train_dataset = Function1D(function, 500, seed)\n",
    "batch_size = 100\n",
    "train_dataloader = torch.utils.data.DataLoader(train_dataset, batch_size=batch_size, num_workers=1, shuffle=True, drop_last=True)"
   ]
  },
  {
   "cell_type": "code",
   "execution_count": null,
   "metadata": {},
   "outputs": [],
   "source": [
    "# Plot the data points\n",
    "plt.scatter(train_dataset.X, train_dataset.y, marker='x', s=8)\n",
    "plt.show()"
   ]
  },
  {
   "cell_type": "code",
   "execution_count": null,
   "metadata": {},
   "outputs": [],
   "source": [
    "num_activations = 1\n",
    "num_coeffs = 51\n",
    "x_min = -1.0\n",
    "x_max = 1.0\n",
    "init = \"identity\"\n",
    "slope_min = None\n",
    "slope_max = None\n",
    "lmbda = 0.0"
   ]
  },
  {
   "cell_type": "code",
   "execution_count": null,
   "metadata": {},
   "outputs": [],
   "source": [
    "spline = linearspline.LinearSpline(num_activations=num_activations, num_coeffs=num_coeffs, x_min=x_min, x_max=x_max, spline_init=init, slope_min=slope_min, slope_max=slope_max, apply_scaling=False)\n",
    "spline = spline.to(device)"
   ]
  },
  {
   "cell_type": "code",
   "execution_count": null,
   "metadata": {},
   "outputs": [],
   "source": [
    "criterion = torch.nn.MSELoss(reduction='sum')\n",
    "optimizer = torch.optim.Adam(spline.parameters(), lr=1e-3)"
   ]
  },
  {
   "cell_type": "code",
   "execution_count": null,
   "metadata": {},
   "outputs": [],
   "source": [
    "# Fit spline to the data\n",
    "\n",
    "spline.train()\n",
    "tbar = tqdm(range(1000), ncols=135)\n",
    "log = {}\n",
    "for epoch in tbar:\n",
    "    log_loss = 0.0\n",
    "    for batch_idx, data in enumerate(train_dataloader):\n",
    "        \n",
    "        input_data = data[0].to(device)\n",
    "        target_data = data[1].to(device)\n",
    "\n",
    "        optimizer.zero_grad()\n",
    "        \n",
    "        output = spline(input_data)\n",
    "\n",
    "        data_fidelity = criterion(output, target_data) / batch_size\n",
    "        \n",
    "        regularization = torch.zeros_like(data_fidelity)\n",
    "        if (lmbda > 0.0):\n",
    "            regularization = lmbda*spline.tv2()\n",
    "\n",
    "        total_loss = data_fidelity + regularization\n",
    "        \n",
    "        total_loss.backward()\n",
    "        optimizer.step()\n",
    "\n",
    "        log_loss = log_loss + total_loss.detach().cpu().item()\n",
    "\n",
    "    log['Train loss'] = log_loss\n",
    "    tbar.set_description('T ({}) | TotalLoss {:.8f} |'.format(epoch, log['Train loss']))\n",
    "            \n",
    "\n",
    "    "
   ]
  },
  {
   "cell_type": "code",
   "execution_count": null,
   "metadata": {},
   "outputs": [],
   "source": [
    "x_vals = torch.linspace(-1.0,1.0,5000, device=device)\n",
    "x_vals = x_vals.unsqueeze(1)\n",
    "plt.scatter(train_dataset.X, train_dataset.y, marker='x', s=8)\n",
    "plt.plot(x_vals.cpu().numpy(), spline(x_vals).detach().cpu().numpy(), label=\"spline\", color=(255/255, 16/255, 240/255))\n",
    "plt.legend(loc=\"lower right\")\n",
    "plt.show()"
   ]
  },
  {
   "cell_type": "code",
   "execution_count": null,
   "metadata": {},
   "outputs": [],
   "source": []
  }
 ],
 "metadata": {
  "kernelspec": {
   "display_name": "mcmc_nn",
   "language": "python",
   "name": "python3"
  },
  "language_info": {
   "codemirror_mode": {
    "name": "ipython",
    "version": 3
   },
   "file_extension": ".py",
   "mimetype": "text/x-python",
   "name": "python",
   "nbconvert_exporter": "python",
   "pygments_lexer": "ipython3",
   "version": "3.10.13"
  },
  "orig_nbformat": 4
 },
 "nbformat": 4,
 "nbformat_minor": 2
}
